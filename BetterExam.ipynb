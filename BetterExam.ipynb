{
 "cells": [
  {
   "cell_type": "code",
   "execution_count": 92,
   "id": "3e426d46",
   "metadata": {},
   "outputs": [],
   "source": [
    "import numpy as np"
   ]
  },
  {
   "cell_type": "code",
   "execution_count": 93,
   "id": "af09f28d",
   "metadata": {},
   "outputs": [],
   "source": [
    "from sklearn.datasets import fetch_20newsgroups_vectorized\n",
    "X, y = fetch_20newsgroups_vectorized(subset='train', \n",
    "                                     return_X_y=True, \n",
    "                                     remove=('headers', 'footers'))"
   ]
  },
  {
   "cell_type": "code",
   "execution_count": 94,
   "id": "77232bc9",
   "metadata": {},
   "outputs": [
    {
     "data": {
      "text/plain": [
       "((11314, 114751), (11314,))"
      ]
     },
     "execution_count": 94,
     "metadata": {},
     "output_type": "execute_result"
    }
   ],
   "source": [
    "X.shape, y.shape"
   ]
  },
  {
   "cell_type": "markdown",
   "id": "8f47f55e",
   "metadata": {},
   "source": [
    "# Préparation des données"
   ]
  },
  {
   "cell_type": "markdown",
   "id": "cf2923d0",
   "metadata": {},
   "source": [
    "Dans la suite, on va garder les 5 classes les plus représentées parmi les 1000 premiers exemples de `X`. Les exemples associés autres autres classes sont écartés. On obtient finalement un échantillon que vous appelez `X_g` de 306 exemples.  "
   ]
  },
  {
   "cell_type": "code",
   "execution_count": 95,
   "id": "61a34c85",
   "metadata": {},
   "outputs": [],
   "source": [
    "nb_classes = 5\n",
    "n_exemples = 1000"
   ]
  },
  {
   "cell_type": "markdown",
   "id": "881b97b8",
   "metadata": {},
   "source": [
    "**Question**  Utiliser [np.unique](https://numpy.org/doc/stable/reference/generated/numpy.unique.html) avec l'argument `return_counts` pour identifier dans `labels` les classes que vous gardez."
   ]
  },
  {
   "cell_type": "code",
   "execution_count": 96,
   "id": "5caaaeec",
   "metadata": {},
   "outputs": [],
   "source": [
    "a = np.unique(y[:n_exemples] , return_counts=True)"
   ]
  },
  {
   "cell_type": "code",
   "execution_count": 97,
   "id": "0d516b77",
   "metadata": {},
   "outputs": [
    {
     "data": {
      "text/plain": [
       "array([[ 0,  1,  2,  3,  4,  5,  6,  7,  8,  9, 10, 11, 12, 13, 14, 15,\n",
       "        16, 17, 18, 19],\n",
       "       [18, 19,  3, 16, 11, 12,  7, 14,  4,  8,  0,  9,  5, 17,  2, 15,\n",
       "         6, 10, 13,  1]])"
      ]
     },
     "execution_count": 97,
     "metadata": {},
     "output_type": "execute_result"
    }
   ],
   "source": [
    "# get 5 argmaxes \n",
    "\n",
    "idx = np.argsort(a)\n",
    "idx"
   ]
  },
  {
   "cell_type": "code",
   "execution_count": 98,
   "id": "5d3f4f71",
   "metadata": {},
   "outputs": [],
   "source": [
    "classes = idx[1 , -nb_classes:]\n"
   ]
  },
  {
   "cell_type": "code",
   "execution_count": 99,
   "id": "5b28a4d4",
   "metadata": {},
   "outputs": [],
   "source": [
    "# get indexes of the elements in y that are in classes\n",
    "idx = np.isin(y[:n_exemples] , classes)\n",
    "X_g = X[:n_exemples][idx]\n",
    "y_g = y[:n_exemples][idx]"
   ]
  },
  {
   "cell_type": "code",
   "execution_count": 100,
   "metadata": {},
   "outputs": [
    {
     "name": "stdout",
     "output_type": "stream",
     "text": [
      "(306, 114751)\n",
      "(306,)\n"
     ]
    }
   ],
   "source": [
    "print(X_g.shape)\n",
    "print(y_g.shape)\n"
   ]
  },
  {
   "cell_type": "markdown",
   "id": "04873ee7",
   "metadata": {},
   "source": [
    "Si vous n'avez pas réussi à faire cela, vous pouvez charger les données dans `pb.csv.xz`. (c'est un fichier compressé que panda sait lire)."
   ]
  },
  {
   "cell_type": "markdown",
   "id": "a3e4689f",
   "metadata": {},
   "source": [
    "# Encodage des classes"
   ]
  },
  {
   "cell_type": "markdown",
   "id": "a26aef99",
   "metadata": {},
   "source": [
    "Dans la méthode de Zhou et al 2003, nous avons regardé l'identité entre un calcul itératif et une version analytique de ce calcul. Mais nous n'avons pas réellement défini une méthode de classification. En fait le problème de classification est résolu en prenant une fonction $F$ qui encode le problème de décision associé à la classification.\n",
    "\n",
    "La méthode s'applique généralement aux problèmes multiclasses, avec un nombre $c$ de classes. \n",
    "\n",
    "Pour chaque noeud, la fonction $F$ associe un score à chaque classe possible dans $[0,\\dots,c-1]$. Alors $F(i, k)$ est le score associé à la classe $k$ pour le noeud $i$. On fera une décision en prenant le score maximal associé à chaque noeud :\n",
    "\n",
    "\\begin{equation}\n",
    "\\mathop{\\mathrm {argmax}}_{0\\leq k< c} F(i,k)\\hspace{5cm}(1)\n",
    "\\end{equation}\n",
    "\n",
    "En fait $F$ est l'encodage de `y_g` par un `OneHotEncoder`."
   ]
  },
  {
   "cell_type": "markdown",
   "id": "0ad2c3ab",
   "metadata": {},
   "source": [
    "**Question** Calculer `F_star` qui est l'encodage des classes à l'aide de cette méthode."
   ]
  },
  {
   "cell_type": "code",
   "execution_count": 101,
   "id": "9d9bf314",
   "metadata": {},
   "outputs": [
    {
     "data": {
      "text/plain": [
       "array([[0., 0., 1., 0., 0.],\n",
       "       [0., 0., 1., 0., 0.],\n",
       "       [0., 0., 0., 0., 1.],\n",
       "       ...,\n",
       "       [0., 1., 0., 0., 0.],\n",
       "       [1., 0., 0., 0., 0.],\n",
       "       [0., 0., 0., 1., 0.]])"
      ]
     },
     "execution_count": 101,
     "metadata": {},
     "output_type": "execute_result"
    }
   ],
   "source": [
    "# one hot encoding of y_g sk learn\n",
    "from sklearn.preprocessing import OneHotEncoder\n",
    "enc = OneHotEncoder()\n",
    "f_star = enc.fit_transform(y_g.reshape(-1, 1)).toarray()\n",
    "f_star"
   ]
  },
  {
   "cell_type": "markdown",
   "id": "222c0168",
   "metadata": {},
   "source": [
    "Dans ce problème semi-supervisé, la fonction $F$ est initialisée en mettant $F(i, k)=1$ pour tous les noeuds dont on connait l'étiquette associée $k$ et 0 partout ailleurs.  \n",
    "\n",
    "**Question** Définir `F`"
   ]
  },
  {
   "cell_type": "code",
   "execution_count": 102,
   "id": "a13a25c5",
   "metadata": {},
   "outputs": [],
   "source": [
    "nb_labeles = 25"
   ]
  },
  {
   "cell_type": "code",
   "execution_count": 103,
   "id": "4b081e77",
   "metadata": {},
   "outputs": [
    {
     "data": {
      "text/plain": [
       "array([[0., 0., 1., 0., 0.],\n",
       "       [0., 0., 1., 0., 0.],\n",
       "       [0., 0., 0., 0., 1.],\n",
       "       ...,\n",
       "       [0., 0., 0., 0., 0.],\n",
       "       [0., 0., 0., 0., 0.],\n",
       "       [0., 0., 0., 0., 0.]])"
      ]
     },
     "execution_count": 103,
     "metadata": {},
     "output_type": "execute_result"
    }
   ],
   "source": [
    "# f is a copy of f_star in the first nb_labels columns , else 0\n",
    "f = f_star.copy()\n",
    "f[nb_labeles:, :] = 0\n",
    "f"
   ]
  },
  {
   "cell_type": "markdown",
   "id": "8c4ab6cf",
   "metadata": {},
   "source": [
    "# Label spreading"
   ]
  },
  {
   "cell_type": "code",
   "execution_count": 104,
   "id": "aab9920b",
   "metadata": {},
   "outputs": [],
   "source": [
    "from sklearn.metrics.pairwise import rbf_kernel\n",
    "from sklearn.neighbors import kneighbors_graph"
   ]
  },
  {
   "cell_type": "markdown",
   "id": "20e33951",
   "metadata": {},
   "source": [
    "**Question** Définir deux matrices `M_rbf` et `M_knn` pour calculer deux noyaux de similarité à partir \n",
    "- d'un noyau gaussien (on prendra $\\gamma=20$), et \n",
    "- d'un $k$ plus proches voisins (on prendra $k=3$). "
   ]
  },
  {
   "cell_type": "code",
   "execution_count": 105,
   "id": "29f19547",
   "metadata": {},
   "outputs": [],
   "source": [
    "M_rbf = rbf_kernel(X_g, gamma=20)\n",
    "M_knn = kneighbors_graph(X_g, n_neighbors = 3).toarray()"
   ]
  },
  {
   "cell_type": "markdown",
   "id": "7de41267",
   "metadata": {},
   "source": [
    "**Question** Définir une fonction `getS` qui prend en argument une matrice noyau et calcule la matrice $S$ associée à la méthode de Zhou et al 2003. NB: la diagonale de la matrice noyau doit être nulle. "
   ]
  },
  {
   "cell_type": "code",
   "execution_count": 125,
   "id": "f808d52e",
   "metadata": {},
   "outputs": [],
   "source": [
    "\n",
    "def getS(M):\n",
    "    M = M - np.diag(np.diag(M))\n",
    "    D = np.diag(M.sum(axis=1))\n",
    "    D_inv = np.linalg.inv(D)\n",
    "    D= np.sqrt(D_inv)\n",
    "    return  D@M@D"
   ]
  },
  {
   "cell_type": "code",
   "execution_count": 126,
   "id": "bf41b484",
   "metadata": {},
   "outputs": [
    {
     "data": {
      "text/plain": [
       "((306, 306), (306, 306))"
      ]
     },
     "execution_count": 126,
     "metadata": {},
     "output_type": "execute_result"
    }
   ],
   "source": [
    "np.diag(np.diag(M_rbf)).shape , M_rbf.shape"
   ]
  },
  {
   "cell_type": "code",
   "execution_count": 127,
   "metadata": {},
   "outputs": [
    {
     "data": {
      "text/plain": [
       "array([[0., 0., 0., ..., 0., 0., 0.],\n",
       "       [0., 0., 0., ..., 0., 0., 0.],\n",
       "       [0., 0., 0., ..., 0., 0., 0.],\n",
       "       ...,\n",
       "       [0., 0., 0., ..., 0., 0., 0.],\n",
       "       [0., 0., 0., ..., 0., 0., 0.],\n",
       "       [0., 0., 0., ..., 0., 0., 0.]])"
      ]
     },
     "execution_count": 127,
     "metadata": {},
     "output_type": "execute_result"
    }
   ],
   "source": [
    "getS(M_knn)"
   ]
  },
  {
   "cell_type": "code",
   "execution_count": 128,
   "metadata": {},
   "outputs": [
    {
     "data": {
      "text/plain": [
       "array([[0.00000000e+00, 2.84035570e-05, 1.36480268e-06, ...,\n",
       "        5.10162555e-07, 3.77380198e-10, 3.05327092e-05],\n",
       "       [2.84035570e-05, 0.00000000e+00, 2.12237007e-05, ...,\n",
       "        2.56360098e-06, 2.65616057e-09, 1.66986664e-03],\n",
       "       [1.36480268e-06, 2.12237007e-05, 0.00000000e+00, ...,\n",
       "        5.16146095e-05, 4.16255701e-09, 4.38224277e-05],\n",
       "       ...,\n",
       "       [5.10162555e-07, 2.56360098e-06, 5.16146095e-05, ...,\n",
       "        0.00000000e+00, 5.07259105e-09, 3.97522585e-07],\n",
       "       [3.77380198e-10, 2.65616057e-09, 4.16255701e-09, ...,\n",
       "        5.07259105e-09, 0.00000000e+00, 1.96244383e-09],\n",
       "       [3.05327092e-05, 1.66986664e-03, 4.38224277e-05, ...,\n",
       "        3.97522585e-07, 1.96244383e-09, 0.00000000e+00]])"
      ]
     },
     "execution_count": 128,
     "metadata": {},
     "output_type": "execute_result"
    }
   ],
   "source": [
    "getS(M_rbf)"
   ]
  },
  {
   "cell_type": "markdown",
   "id": "844961bd",
   "metadata": {},
   "source": [
    "**Question** écrire une une fonction `zhou_iter` qui prend en argument, \n",
    "- une matrice noyau `M`, \n",
    "- une matrice `F` qui encode les classes (avec une partie supervisée et une partie non supervisée comme fait précédemment),\n",
    "- une liste de classes (comme `labels`) qui correspond à chaque colonne de `F`,\n",
    "- une valeur de $\\alpha$ (0.2 par défaut) et  \n",
    "- `max_iter` correspondant nombre maximal d'itérations. \n",
    "\n",
    "La fonction retourne le vecteur des classes correspondant au maximum définit par l'équation (1) ci-dessus. "
   ]
  },
  {
   "cell_type": "code",
   "execution_count": 129,
   "id": "70680785",
   "metadata": {},
   "outputs": [],
   "source": [
    "# zhou iter , matrice M , f encode classes , list of labels , alpha , max_iter \n",
    "def zhou_iter(M, f, labels, alpha, max_iter):\n",
    "    S = getS(M)\n",
    "    f_star_old = f.copy()\n",
    "    f_star = alpha * S @ f_star_old + (1 - alpha) * f\n",
    "    for i in range(max_iter-1 ):\n",
    "        \n",
    "        if np.allclose(f_star, f_star_old):\n",
    "            break\n",
    "        else : \n",
    "            f_star_helper = f_star.copy()\n",
    "            f_star = alpha * S @ f_star_old + (1 - alpha) * f\n",
    "            f_star_old = f_star_helper.copy()\n",
    "    print(i)\n",
    "    return labels[np.argmax(f_star , axis=1)]"
   ]
  },
  {
   "cell_type": "code",
   "execution_count": 130,
   "id": "0fab3696",
   "metadata": {},
   "outputs": [
    {
     "name": "stdout",
     "output_type": "stream",
     "text": [
      "1\n"
     ]
    }
   ],
   "source": [
    "sol1 = zhou_iter(M_rbf, f, classes, 0.2, 1000)"
   ]
  },
  {
   "cell_type": "markdown",
   "id": "1d782718",
   "metadata": {},
   "source": [
    "**Question** Écrire maintenant une fonction `zhou_analytique` qui fait ce calcul mais à l'aide de l'expression analytique. Les paramètres sont identiques (hormis `max_iter`). La valeur retournée est identique."
   ]
  },
  {
   "cell_type": "code",
   "execution_count": 131,
   "id": "da6be968",
   "metadata": {},
   "outputs": [],
   "source": [
    "# analytique version \n",
    "\n",
    "def zhou_analytique(M, F, labels, alpha=0.2):\n",
    "    return labels[np.argmax(np.linalg.inv(np.eye(M.shape[0])- alpha*getS(M))@F, axis=1)]"
   ]
  },
  {
   "cell_type": "code",
   "execution_count": 132,
   "id": "a8ef0039",
   "metadata": {},
   "outputs": [],
   "source": [
    "sol2 = zhou_analytique(M_rbf, f, classes, 0.2)"
   ]
  },
  {
   "cell_type": "markdown",
   "id": "c0404798",
   "metadata": {},
   "source": [
    "**Question** Calculer l'erreur en classification avec vos implémentations de la méthode de Zhou."
   ]
  },
  {
   "cell_type": "code",
   "execution_count": 133,
   "id": "654f01ac",
   "metadata": {},
   "outputs": [
    {
     "data": {
      "text/plain": [
       "array([10, 10,  1, 15, 15, 15, 13, 15, 10, 10, 10,  6, 10,  1,  6, 10, 13,\n",
       "       15,  1, 13, 15, 13, 10, 15,  1, 10, 10, 13, 15, 15, 13, 10,  1, 10,\n",
       "       10, 13,  1, 13, 10,  1, 13,  1, 10, 15,  1, 10, 10,  1, 13,  1, 15,\n",
       "        1, 10,  1,  1,  1,  1, 10, 13, 13,  1, 15, 13, 13,  1, 15, 15,  1,\n",
       "        1, 15, 13, 10,  1,  1, 15,  1,  1,  1, 15, 15, 10, 10, 10,  1,  1,\n",
       "       13, 10, 15, 10, 13, 15,  1, 15, 10,  1, 10,  1, 13, 15, 10, 13, 10,\n",
       "       10, 13, 13,  6,  1,  1, 13, 10, 10, 15,  1,  1, 13, 13,  1, 13, 13,\n",
       "       10, 13,  1, 10, 10, 10, 13, 10,  1,  1,  1, 13, 10, 13, 10, 15, 10,\n",
       "       13, 10, 10,  1, 10, 10, 13, 15,  1, 13, 10, 15, 15, 15, 10,  1,  1,\n",
       "       10, 10, 10, 13, 13, 13,  1,  1,  1, 13, 10, 13, 15,  1, 10, 15, 10,\n",
       "        1, 13, 15,  1,  1, 13, 10, 10,  1, 13, 15, 15, 13, 13, 10, 13, 10,\n",
       "       15, 15,  1, 10, 10, 15, 10,  1,  1,  6,  1, 10, 10, 13, 10, 15, 10,\n",
       "       13, 10,  1, 13, 10, 15, 10,  1, 10, 13, 13, 15, 10,  1, 15,  6, 13,\n",
       "       15, 15, 10, 15, 10, 10,  1, 10, 15, 15, 10,  1, 13,  1, 13, 15,  1,\n",
       "        1,  1,  1, 10, 10, 10,  1, 10, 10, 15,  1, 15,  6,  1, 10, 13,  1,\n",
       "        1,  1, 15,  1, 10, 10, 15,  1,  1, 15, 13, 15,  1, 10,  1, 13, 13,\n",
       "       10, 13, 10, 13, 13, 13, 15, 15, 15,  1, 13, 13, 15, 13, 13,  1, 15,\n",
       "       10,  1,  1,  1, 13, 15, 13, 13,  1, 13, 15, 13,  6, 15, 10, 13, 10])"
      ]
     },
     "execution_count": 133,
     "metadata": {},
     "output_type": "execute_result"
    }
   ],
   "source": [
    "sol1 "
   ]
  },
  {
   "cell_type": "code",
   "execution_count": 134,
   "id": "8110490d",
   "metadata": {},
   "outputs": [
    {
     "data": {
      "text/plain": [
       "array([10, 10,  1, 15, 15, 15, 13, 15, 10, 10, 10,  6, 10,  1,  6, 10, 13,\n",
       "       15,  1, 13, 15, 13, 10, 15,  1, 10, 10, 13, 15, 15, 13, 10,  1, 10,\n",
       "       10, 13,  1,  1, 10,  1,  1,  1, 10, 15,  1, 10, 10,  1, 13,  1, 15,\n",
       "        1, 10,  1,  1,  1,  1, 10, 13, 13,  1, 15, 13, 13,  1, 15, 15,  1,\n",
       "        1, 15, 13, 10,  1,  1,  1,  1,  1,  1, 15, 15, 10, 10,  1,  1,  1,\n",
       "        1, 10, 15, 10, 13, 15,  1, 15, 10,  1, 10,  1, 13, 15, 10, 13, 10,\n",
       "       10, 13, 13, 15,  1,  1, 13, 10, 10, 15,  1,  1, 13, 13,  1, 13, 13,\n",
       "       10, 13,  1, 10, 10, 10, 13, 10,  1,  1,  1, 13, 10, 13, 10, 15, 10,\n",
       "       10, 10, 10,  1, 10, 10, 13, 15,  1,  1,  1, 15, 15,  1, 10,  1,  1,\n",
       "       10, 10, 10, 13, 13, 13,  1,  1,  1, 13, 10, 13, 15,  1, 10, 15, 10,\n",
       "        1, 13, 15,  1,  1, 13, 10, 10,  1, 13, 15, 15,  1, 13, 10, 13, 10,\n",
       "       15, 15,  1, 10, 10, 15, 10,  1,  1,  6,  1, 10, 10, 13, 10,  1, 10,\n",
       "       10, 10,  1, 13, 10, 15, 10,  1, 10, 13,  1, 15, 10,  1, 15,  6, 13,\n",
       "       15, 15, 10, 15, 10, 10,  1, 10, 15, 15, 10,  1, 13,  1, 13, 15,  1,\n",
       "        1,  1,  1, 10,  1, 10,  1, 10, 10,  1,  1, 15,  6,  1, 10, 13,  1,\n",
       "        1,  1, 15,  1, 10, 10, 15,  1,  1, 15, 13, 15,  1, 10,  1, 13, 13,\n",
       "       10, 10, 10, 13, 13, 13, 15, 15, 15,  1, 13, 13, 15, 13, 13,  1, 15,\n",
       "       10,  1,  1,  1, 10, 15, 13, 13,  1, 13, 15, 13,  6, 15, 10, 13, 10])"
      ]
     },
     "execution_count": 134,
     "metadata": {},
     "output_type": "execute_result"
    }
   ],
   "source": [
    "sol2 "
   ]
  },
  {
   "cell_type": "code",
   "execution_count": 135,
   "id": "bb24ff7f",
   "metadata": {},
   "outputs": [
    {
     "data": {
      "text/plain": [
       "0.30392156862745096"
      ]
     },
     "execution_count": 135,
     "metadata": {},
     "output_type": "execute_result"
    }
   ],
   "source": [
    "accuracy_score(y_g , sol2 )"
   ]
  },
  {
   "cell_type": "code",
   "execution_count": 136,
   "id": "c097a18a",
   "metadata": {},
   "outputs": [
    {
     "data": {
      "text/plain": [
       "0.31699346405228757"
      ]
     },
     "execution_count": 136,
     "metadata": {},
     "output_type": "execute_result"
    }
   ],
   "source": [
    "accuracy_score(y_g , sol1 )"
   ]
  },
  {
   "cell_type": "markdown",
   "id": "32439ffe",
   "metadata": {},
   "source": [
    "# Avec Sklearn"
   ]
  },
  {
   "cell_type": "markdown",
   "id": "e61d500f",
   "metadata": {},
   "source": [
    "**Question** Refaire la même chose avec sklearn : calculer l'erreur de classification avec la méthode de Zhou implantée dans sklearn. (NB: le résultat peut être légèrement différent)."
   ]
  },
  {
   "cell_type": "code",
   "execution_count": null,
   "id": "e45ab30e",
   "metadata": {},
   "outputs": [],
   "source": [
    "from sklearn.semi_supervised import LabelPropagation\n",
    "from sklearn.metrics import accuracy_score\n"
   ]
  },
  {
   "cell_type": "code",
   "execution_count": null,
   "id": "05ee3966",
   "metadata": {},
   "outputs": [
    {
     "name": "stdout",
     "output_type": "stream",
     "text": [
      "accuracy score :  0.2918149466192171\n"
     ]
    }
   ],
   "source": [
    "label_prop_model = LabelPropagation(kernel='rbf', gamma=20, max_iter=1000)\n",
    "label_prop_model.fit(X_g[:nb_labeles], y_g[:nb_labeles])\n",
    "y_pred = label_prop_model.predict(X_g[nb_labeles:])\n",
    "print(\"accuracy score : \", accuracy_score(y_g[nb_labeles:], y_pred))\n"
   ]
  }
 ],
 "metadata": {
  "kernelspec": {
   "display_name": ".env",
   "language": "python",
   "name": ".env"
  },
  "language_info": {
   "codemirror_mode": {
    "name": "ipython",
    "version": 3
   },
   "file_extension": ".py",
   "mimetype": "text/x-python",
   "name": "python",
   "nbconvert_exporter": "python",
   "pygments_lexer": "ipython3",
   "version": "3.8.8"
  }
 },
 "nbformat": 4,
 "nbformat_minor": 5
}
