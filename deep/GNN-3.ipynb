{
 "cells": [
  {
   "cell_type": "code",
   "execution_count": 1,
   "id": "14f9ec66",
   "metadata": {},
   "outputs": [
    {
     "name": "stderr",
     "output_type": "stream",
     "text": [
      "/Users/islambendaoud/opt/anaconda3/lib/python3.8/site-packages/torch_geometric/typing.py:53: UserWarning: An issue occurred while importing 'pyg-lib'. Disabling its usage. Stacktrace: dlopen(/Users/islambendaoud/opt/anaconda3/lib/python3.8/site-packages/libpyg.so, 0x0006): Symbol not found: __ZN2at4_ops11randint_low4callExxN3c108ArrayRefIxEENS2_8optionalINS2_10ScalarTypeEEENS5_INS2_6LayoutEEENS5_INS2_6DeviceEEENS5_IbEE\n",
      "  Referenced from: <2C1A977F-6828-3F8B-9F81-0DA5668C2B45> /Users/islambendaoud/opt/anaconda3/lib/python3.8/site-packages/libpyg.so\n",
      "  Expected in:     <FAE346CA-DD75-315A-9B63-62D89C507026> /Users/islambendaoud/opt/anaconda3/lib/python3.8/site-packages/torch/lib/libtorch_cpu.dylib\n",
      "  warnings.warn(f\"An issue occurred while importing 'pyg-lib'. \"\n",
      "/Users/islambendaoud/opt/anaconda3/lib/python3.8/site-packages/torch_geometric/typing.py:98: UserWarning: An issue occurred while importing 'torch-spline-conv'. Disabling its usage. Stacktrace: dlopen(/Users/islambendaoud/opt/anaconda3/lib/python3.8/site-packages/torch_spline_conv/_basis_cpu.so, 0x0006): Symbol not found: __ZN3c106detail19maybe_wrap_dim_slowExxb\n",
      "  Referenced from: <BC385CCC-BF32-3B8F-9CBF-DAD9191BBC76> /Users/islambendaoud/opt/anaconda3/lib/python3.8/site-packages/torch_spline_conv/_basis_cpu.so\n",
      "  Expected in:     <73F684F2-E1D9-32A8-B2A3-4E00185FE48E> /Users/islambendaoud/opt/anaconda3/lib/python3.8/site-packages/torch/lib/libc10.dylib\n",
      "  warnings.warn(\n",
      "/Users/islambendaoud/opt/anaconda3/lib/python3.8/site-packages/torch_geometric/typing.py:109: UserWarning: An issue occurred while importing 'torch-sparse'. Disabling its usage. Stacktrace: dlopen(/Users/islambendaoud/opt/anaconda3/lib/python3.8/site-packages/libpyg.so, 0x0006): Symbol not found: __ZN2at4_ops11randint_low4callExxN3c108ArrayRefIxEENS2_8optionalINS2_10ScalarTypeEEENS5_INS2_6LayoutEEENS5_INS2_6DeviceEEENS5_IbEE\n",
      "  Referenced from: <2C1A977F-6828-3F8B-9F81-0DA5668C2B45> /Users/islambendaoud/opt/anaconda3/lib/python3.8/site-packages/libpyg.so\n",
      "  Expected in:     <FAE346CA-DD75-315A-9B63-62D89C507026> /Users/islambendaoud/opt/anaconda3/lib/python3.8/site-packages/torch/lib/libtorch_cpu.dylib\n",
      "  warnings.warn(f\"An issue occurred while importing 'torch-sparse'. \"\n"
     ]
    }
   ],
   "source": [
    "import torch\n",
    "from torch_geometric.data import Data"
   ]
  },
  {
   "cell_type": "markdown",
   "id": "06e77fb5",
   "metadata": {},
   "source": [
    "# Création d'un graphe"
   ]
  },
  {
   "cell_type": "markdown",
   "id": "05e5c2ad",
   "metadata": {},
   "source": [
    "**Question** Créer un objet de class `Data` qui représente un petit graphe de 3 noeuds 0, 1, et 2 et étiquetés (ce sont les attributs) -1, 0, 1 et dont les arêtes sont\n",
    "\n",
    "- de 0 vers 1 dans les deux sens, \n",
    "- de 1 vers 2 dans les deux sens. "
   ]
  },
  {
   "cell_type": "code",
   "execution_count": 2,
   "id": "eb01be55",
   "metadata": {},
   "outputs": [],
   "source": [
    "# arêtes\n",
    "edge_index = torch.tensor([[0, 1, 1, 2],\n",
    "                           [1, 0, 2, 1]], dtype=torch.long)\n",
    "# attributs\n",
    "x = torch.tensor([[-1], [0], [1]], dtype=torch.float)\n",
    "\n",
    "data = Data(x=x, edge_index=edge_index)"
   ]
  },
  {
   "cell_type": "code",
   "execution_count": 3,
   "id": "d75c4a49",
   "metadata": {},
   "outputs": [
    {
     "data": {
      "text/plain": [
       "Data(x=[3, 1], edge_index=[2, 4])"
      ]
     },
     "execution_count": 3,
     "metadata": {},
     "output_type": "execute_result"
    }
   ],
   "source": [
    "data"
   ]
  },
  {
   "cell_type": "markdown",
   "id": "c4ea6ab2",
   "metadata": {},
   "source": [
    "**Question** Afficher les infos suivantes : \n",
    "```\n",
    "nb noeuds :  3 \n",
    "nb arêtes :  4 \n",
    "nb attributs noeuds : 1 \n",
    "nb attributs arêtes : 0 \n",
    "noeuds isolés : False \n",
    "self loops : False \n",
    "dirigé : False\n",
    "```"
   ]
  },
  {
   "cell_type": "code",
   "execution_count": 4,
   "id": "234a4ddc",
   "metadata": {},
   "outputs": [
    {
     "name": "stdout",
     "output_type": "stream",
     "text": [
      "nb noeuds :  3 \n",
      "nb arêtes :  4 \n",
      "nb attributs noeuds : 1 \n",
      "nb attributs arêtes : 0 \n",
      "noeuds isolés : False \n",
      "self loops : False \n",
      "dirigé : False\n"
     ]
    }
   ],
   "source": [
    "print(\"nb noeuds : \", data.num_nodes ,\n",
    "      \"\\nnb arêtes : \", data.num_edges, \n",
    "      \"\\nnb attributs noeuds :\", data.num_node_features, \n",
    "      \"\\nnb attributs arêtes :\", data.num_edge_features,\n",
    "      \"\\nnoeuds isolés :\", data.has_isolated_nodes(),\n",
    "      \"\\nself loops :\", data.has_self_loops(), \"\\ndirigé :\",data.is_directed())"
   ]
  },
  {
   "cell_type": "markdown",
   "id": "3a36d0cb",
   "metadata": {},
   "source": [
    "# Un jeu de données de plusieurs graphes"
   ]
  },
  {
   "cell_type": "markdown",
   "id": "f65abdac",
   "metadata": {},
   "source": [
    "**Question** Importer le jeu de données ENZYMES. On conserve une version téléchargée dans `/tmp'"
   ]
  },
  {
   "cell_type": "code",
   "execution_count": 5,
   "id": "f49d26c6",
   "metadata": {},
   "outputs": [
    {
     "name": "stderr",
     "output_type": "stream",
     "text": [
      "Downloading https://www.chrsmrrs.com/graphkerneldatasets/ENZYMES.zip\n",
      "Processing...\n",
      "Done!\n"
     ]
    }
   ],
   "source": [
    "from torch_geometric.datasets import TUDataset\n",
    "\n",
    "dataset = TUDataset(root='/tmp/ENZYMES', name='ENZYMES')"
   ]
  },
  {
   "cell_type": "markdown",
   "id": "239a04bf",
   "metadata": {},
   "source": [
    "**Question** Afficher les caractéristiques suivantes\n",
    "```\n",
    "nombre de graphes :  600 \n",
    "nombre de classes :  6 \n",
    "nombre d'attributs de noeuds 3\n",
    "```"
   ]
  },
  {
   "cell_type": "code",
   "execution_count": 6,
   "id": "46111f5b",
   "metadata": {
    "scrolled": true
   },
   "outputs": [
    {
     "name": "stdout",
     "output_type": "stream",
     "text": [
      "nombre de graphes :  600 \n",
      "nombre de classes :  6 \n",
      "nombre d'attributs de noeuds 3\n"
     ]
    }
   ],
   "source": [
    "print(\"nombre de graphes : \", len(dataset),\n",
    "      \"\\nnombre de classes : \", dataset.num_classes,\n",
    "     \"\\nnombre d'attributs de noeuds\", dataset.num_node_features)"
   ]
  },
  {
   "cell_type": "markdown",
   "id": "e593516b",
   "metadata": {},
   "source": [
    "**Question** Quelles sont les classes ? Est-ce que le jeu de données est équilibré ?"
   ]
  },
  {
   "cell_type": "code",
   "execution_count": 7,
   "id": "90714b52",
   "metadata": {},
   "outputs": [
    {
     "data": {
      "text/plain": [
       "(tensor([0, 1, 2, 3, 4, 5]), tensor([100, 100, 100, 100, 100, 100]))"
      ]
     },
     "execution_count": 7,
     "metadata": {},
     "output_type": "execute_result"
    }
   ],
   "source": [
    "dataset.y.unique(return_counts=True)"
   ]
  },
  {
   "cell_type": "markdown",
   "id": "b200b217",
   "metadata": {},
   "source": [
    "**Question** Considérer le premier graphe de ce jeu de données et afficher les statistiques suivantes :\n",
    "```\n",
    "nb noeuds :  37 \n",
    "nb arêtes :  168 \n",
    "nb attributs noeuds : 3 \n",
    "nb attributs arêtes : 0 \n",
    "noeuds isolés : False \n",
    "self loops : False \n",
    "dirigé : False\n",
    "```"
   ]
  },
  {
   "cell_type": "code",
   "execution_count": 8,
   "id": "33bf1c16",
   "metadata": {},
   "outputs": [
    {
     "data": {
      "text/plain": [
       "Data(edge_index=[2, 168], x=[37, 3], y=[1])"
      ]
     },
     "execution_count": 8,
     "metadata": {},
     "output_type": "execute_result"
    }
   ],
   "source": [
    "data = dataset[0]\n",
    "data"
   ]
  },
  {
   "cell_type": "code",
   "execution_count": 9,
   "id": "74883e64",
   "metadata": {},
   "outputs": [
    {
     "name": "stdout",
     "output_type": "stream",
     "text": [
      "nb noeuds :  37 \n",
      "nb arêtes :  168 \n",
      "nb attributs noeuds : 3 \n",
      "nb attributs arêtes : 0 \n",
      "noeuds isolés : False \n",
      "self loops : False \n",
      "dirigé : False\n"
     ]
    }
   ],
   "source": [
    "print(\"nb noeuds : \", data.num_nodes ,\n",
    "      \"\\nnb arêtes : \", data.num_edges, \n",
    "      \"\\nnb attributs noeuds :\", data.num_node_features, \n",
    "      \"\\nnb attributs arêtes :\", data.num_edge_features,\n",
    "      \"\\nnoeuds isolés :\", data.has_isolated_nodes(),\n",
    "      \"\\nself loops :\", data.has_self_loops(), \"\\ndirigé :\",data.is_directed())"
   ]
  },
  {
   "cell_type": "markdown",
   "id": "9abb67be",
   "metadata": {},
   "source": [
    "**Question** Pour décomposer en train/test, on prend en train les 450 premiers graphes du jeu de données après avoir mélangé les données, le reste va dans le test. Vous appelez `{train,test}_dataset` ces deux jeux de données."
   ]
  },
  {
   "cell_type": "code",
   "execution_count": 10,
   "id": "f15ba63e",
   "metadata": {},
   "outputs": [],
   "source": [
    "torch.manual_seed(42)\n",
    "dataset = dataset.shuffle()\n",
    "train_dataset = dataset[:450]\n",
    "test_dataset = dataset[450:]"
   ]
  },
  {
   "attachments": {
    "image.png": {
     "image/png": "[encoded data removed]"
    }
   },
   "cell_type": "markdown",
   "id": "e8d9c0e7",
   "metadata": {},
   "source": [
    "# Petit passage vers scatter\n",
    "\n",
    "Voyons un moyen d'effectuer un genre de \"group by\" par classes avec une fonction d'agrégation. Les classes sont indiquées par un tenseur qui indique à quelle classe appartient quel indice.\n",
    "\n",
    "![image.png](attachment:image.png)"
   ]
  },
  {
   "cell_type": "code",
   "execution_count": 13,
   "id": "8a336894",
   "metadata": {},
   "outputs": [],
   "source": [
    "from torch_scatter import scatter_mean, scatter"
   ]
  },
  {
   "cell_type": "code",
   "execution_count": 19,
   "id": "dc9985ae",
   "metadata": {},
   "outputs": [
    {
     "name": "stdout",
     "output_type": "stream",
     "text": [
      "tensor([[0., 0., 4., 3., 3., 0.],\n",
      "        [2., 4., 4., 0., 0., 0.]])\n",
      "tensor([[0.0000, 0.0000, 4.0000, 3.0000, 1.5000, 0.0000],\n",
      "        [1.0000, 4.0000, 2.0000, 0.0000, 0.0000, 0.0000]])\n"
     ]
    }
   ],
   "source": [
    "src   = torch.Tensor([[2, 0, 1, 4, 3], [0, 2, 1, 3, 4]])\n",
    "index = torch.tensor([[4, 5, 4, 2, 3], [0, 0, 2, 2, 1]])\n",
    "\n",
    "# par défaut c'est la somme (scatter_add)\n",
    "print(scatter(src, index))\n",
    "\n",
    "# on peut faire la moyenne\n",
    "out = src.new_zeros((2, 6))\n",
    "out = scatter_mean(src, index, out=out)\n",
    "print(out)"
   ]
  },
  {
   "cell_type": "markdown",
   "id": "32b4546d",
   "metadata": {},
   "source": [
    "# DataLoaders et batches"
   ]
  },
  {
   "cell_type": "code",
   "execution_count": 15,
   "id": "9d377980",
   "metadata": {},
   "outputs": [],
   "source": [
    "from torch_geometric.loader import DataLoader"
   ]
  },
  {
   "cell_type": "markdown",
   "id": "a0c2d5cb",
   "metadata": {},
   "source": [
    "**Question** Créer des loaders nommés `{train,test}_loader`, de taille de batch 64. Il est préférable de mélanger (shuffle) les batches d'entraînement."
   ]
  },
  {
   "cell_type": "code",
   "execution_count": 20,
   "id": "6aac43ec",
   "metadata": {},
   "outputs": [],
   "source": [
    "train_loader = DataLoader(train_dataset, batch_size=64, shuffle=True)\n",
    "test_loader = DataLoader(test_dataset, batch_size=64)"
   ]
  },
  {
   "cell_type": "markdown",
   "id": "a549424a",
   "metadata": {},
   "source": [
    "**Observation** Iterations sur les batches"
   ]
  },
  {
   "cell_type": "code",
   "execution_count": 21,
   "id": "f8765e19",
   "metadata": {},
   "outputs": [
    {
     "name": "stdout",
     "output_type": "stream",
     "text": [
      "DataBatch(edge_index=[2, 8450], x=[2206, 3], y=[64], batch=[2206], ptr=[65])\n",
      "DataBatch(edge_index=[2, 8128], x=[2090, 3], y=[64], batch=[2090], ptr=[65])\n",
      "DataBatch(edge_index=[2, 3246], x=[814, 3], y=[22], batch=[814], ptr=[23])\n"
     ]
    }
   ],
   "source": [
    "i = iter(test_loader)\n",
    "for b in i:\n",
    "    print(b)"
   ]
  },
  {
   "cell_type": "markdown",
   "id": "cc92e54d",
   "metadata": {},
   "source": [
    "On peut faire une itération juste sur le DataLoader"
   ]
  },
  {
   "cell_type": "code",
   "execution_count": 22,
   "id": "893ff8b5",
   "metadata": {},
   "outputs": [
    {
     "name": "stdout",
     "output_type": "stream",
     "text": [
      "DataBatch(edge_index=[2, 8450], x=[2206, 3], y=[64], batch=[2206], ptr=[65])\n",
      "DataBatch(edge_index=[2, 8128], x=[2090, 3], y=[64], batch=[2090], ptr=[65])\n",
      "DataBatch(edge_index=[2, 3246], x=[814, 3], y=[22], batch=[814], ptr=[23])\n"
     ]
    }
   ],
   "source": [
    "for b in test_loader:\n",
    "    print(b)"
   ]
  },
  {
   "cell_type": "markdown",
   "id": "1d43efe7",
   "metadata": {},
   "source": [
    "**Question** Regarder le premier batch du test grâce à un iterateur sur son loader. Nommez-le `batch`. Affichez ce batch et ses labels. Combien y a-t-il de noeuds, attributs dans le batch ?"
   ]
  },
  {
   "cell_type": "code",
   "execution_count": 23,
   "id": "daa2fee1",
   "metadata": {},
   "outputs": [
    {
     "name": "stdout",
     "output_type": "stream",
     "text": [
      "Batch: DataBatch(edge_index=[2, 8450], x=[2206, 3], y=[64], batch=[2206], ptr=[65])\n",
      "Labels: tensor([3, 3, 0, 1, 3, 4, 2, 5, 0, 3, 3, 0, 4, 3, 2, 2, 4, 2, 2, 0, 5, 0, 2, 5,\n",
      "        5, 0, 2, 1, 0, 3, 0, 4, 5, 5, 1, 5, 2, 0, 0, 0, 3, 5, 0, 1, 0, 1, 5, 3,\n",
      "        0, 3, 0, 1, 2, 4, 5, 3, 1, 1, 2, 5, 1, 3, 0, 0])\n"
     ]
    }
   ],
   "source": [
    "batch = next(iter(test_loader))\n",
    "print(\"Batch:\", batch)\n",
    "print(\"Labels:\", batch.y[:100])"
   ]
  },
  {
   "cell_type": "markdown",
   "id": "10193529",
   "metadata": {},
   "source": [
    "On a 64 graphes, 2206 noeuds avec 3 attributs."
   ]
  },
  {
   "cell_type": "markdown",
   "id": "72b108bf",
   "metadata": {},
   "source": [
    "Par ce moyen, tous les graphes sont concaténés. C'est un peu comme si on avait un unique grand graphe avec des composantes connexes correspondant à chaque petit graphe. L'attribut `batch` du batch donne les indices des graphes auquel ces noeuds appartiennent. \n",
    "\n",
    "**Question** regarder les indices des 45 premiers et 35 derniers éléments de ce `batch`.  Combien y a-t-il de noeuds dans le premier et dernier graphe de ce batch?"
   ]
  },
  {
   "cell_type": "code",
   "execution_count": 18,
   "id": "6f55afdb",
   "metadata": {},
   "outputs": [
    {
     "name": "stdout",
     "output_type": "stream",
     "text": [
      "Indices: tensor([0, 0, 0, 0, 0, 0, 0, 0, 0, 0, 0, 0, 0, 0, 0, 0, 0, 0, 0, 0, 0, 0, 0, 0,\n",
      "        0, 0, 0, 0, 0, 0, 0, 0, 0, 0, 0, 0, 0, 0, 0, 0, 0, 0, 0, 0, 1])\n",
      "Indices: tensor([62, 62, 63, 63, 63, 63, 63, 63, 63, 63, 63, 63, 63, 63, 63, 63, 63, 63,\n",
      "        63, 63, 63, 63, 63, 63, 63, 63, 63, 63, 63, 63, 63, 63, 63, 63, 63])\n"
     ]
    }
   ],
   "source": [
    "print(\"Indices:\", batch.batch[:45])\n",
    "print(\"Indices:\", batch.batch[-35:])"
   ]
  },
  {
   "cell_type": "markdown",
   "id": "4b684fca",
   "metadata": {},
   "source": [
    "Les 44 premiers sont du premier graphe, les 33 derniers sont du dernier."
   ]
  },
  {
   "cell_type": "markdown",
   "id": "9b4116cf",
   "metadata": {},
   "source": [
    "**Question** On peut alors avec scatter rassembler les données par graphe. Faire une moyenne des attributs des noeuds par batch et par graphe..."
   ]
  },
  {
   "cell_type": "code",
   "execution_count": 25,
   "id": "6fe57b20",
   "metadata": {},
   "outputs": [
    {
     "name": "stdout",
     "output_type": "stream",
     "text": [
      "tensor([[0.5455, 0.4545, 0.0000],\n",
      "        [0.2143, 0.5000, 0.2857],\n",
      "        [0.2500, 0.7500, 0.0000],\n",
      "        [1.0000, 0.0000, 0.0000],\n",
      "        [0.6098, 0.3902, 0.0000],\n",
      "        [0.6364, 0.3636, 0.0000],\n",
      "        [0.8000, 0.2000, 0.0000],\n",
      "        [0.5556, 0.4444, 0.0000],\n",
      "        [0.6667, 0.3333, 0.0000],\n",
      "        [0.5833, 0.4167, 0.0000],\n",
      "        [0.2273, 0.5227, 0.2500],\n",
      "        [0.2857, 0.7143, 0.0000],\n",
      "        [0.6444, 0.3556, 0.0000],\n",
      "        [0.3333, 0.6667, 0.0000],\n",
      "        [0.3000, 0.7000, 0.0000],\n",
      "        [0.6429, 0.3571, 0.0000],\n",
      "        [1.0000, 0.0000, 0.0000],\n",
      "        [0.3333, 0.6667, 0.0000],\n",
      "        [0.4800, 0.5200, 0.0000],\n",
      "        [0.5000, 0.5000, 0.0000],\n",
      "        [0.6250, 0.3750, 0.0000],\n",
      "        [0.2917, 0.7083, 0.0000],\n",
      "        [0.5000, 0.5000, 0.0000],\n",
      "        [0.5238, 0.4762, 0.0000],\n",
      "        [0.7500, 0.2500, 0.0000],\n",
      "        [0.2727, 0.7273, 0.0000],\n",
      "        [0.5294, 0.4706, 0.0000],\n",
      "        [0.4516, 0.5484, 0.0000],\n",
      "        [0.7917, 0.2083, 0.0000],\n",
      "        [0.5500, 0.4500, 0.0000],\n",
      "        [0.4074, 0.5926, 0.0000],\n",
      "        [0.2778, 0.5000, 0.2222],\n",
      "        [0.7727, 0.2273, 0.0000],\n",
      "        [0.7600, 0.2400, 0.0000],\n",
      "        [0.7619, 0.2381, 0.0000],\n",
      "        [0.5000, 0.5000, 0.0000],\n",
      "        [0.2667, 0.7333, 0.0000],\n",
      "        [0.4500, 0.5500, 0.0000],\n",
      "        [0.1667, 0.3333, 0.5000],\n",
      "        [0.2500, 0.7500, 0.0000],\n",
      "        [0.6190, 0.3810, 0.0000],\n",
      "        [0.4878, 0.5122, 0.0000],\n",
      "        [0.4286, 0.5714, 0.0000],\n",
      "        [0.5714, 0.4286, 0.0000],\n",
      "        [0.1639, 0.8361, 0.0000],\n",
      "        [0.6538, 0.3462, 0.0000],\n",
      "        [0.5152, 0.4848, 0.0000],\n",
      "        [0.5000, 0.5000, 0.0000],\n",
      "        [0.6364, 0.3636, 0.0000],\n",
      "        [0.3158, 0.6842, 0.0000],\n",
      "        [0.8947, 0.1053, 0.0000],\n",
      "        [0.1053, 0.8947, 0.0000],\n",
      "        [0.6000, 0.4000, 0.0000],\n",
      "        [0.6250, 0.3750, 0.0000],\n",
      "        [0.6923, 0.3077, 0.0000],\n",
      "        [0.7000, 0.3000, 0.0000],\n",
      "        [0.4000, 0.6000, 0.0000],\n",
      "        [0.4848, 0.5152, 0.0000],\n",
      "        [0.4250, 0.5750, 0.0000],\n",
      "        [0.5556, 0.4444, 0.0000],\n",
      "        [0.4000, 0.6000, 0.0000],\n",
      "        [0.4000, 0.6000, 0.0000],\n",
      "        [0.7059, 0.2941, 0.0000],\n",
      "        [0.6061, 0.3939, 0.0000]]) \n",
      "\n",
      "tensor([[0.4615, 0.5385, 0.0000],\n",
      "        [0.6000, 0.4000, 0.0000],\n",
      "        [0.8298, 0.1702, 0.0000],\n",
      "        [0.4737, 0.5263, 0.0000],\n",
      "        [0.5909, 0.4091, 0.0000],\n",
      "        [0.5185, 0.4815, 0.0000],\n",
      "        [0.4348, 0.5652, 0.0000],\n",
      "        [0.4483, 0.5517, 0.0000],\n",
      "        [0.5556, 0.4444, 0.0000],\n",
      "        [0.4500, 0.5500, 0.0000],\n",
      "        [0.4667, 0.5333, 0.0000],\n",
      "        [0.3000, 0.2500, 0.4500],\n",
      "        [0.5758, 0.4242, 0.0000],\n",
      "        [0.5000, 0.5000, 0.0000],\n",
      "        [0.5714, 0.4286, 0.0000],\n",
      "        [0.2439, 0.4878, 0.2683],\n",
      "        [0.6400, 0.3600, 0.0000],\n",
      "        [0.6400, 0.3600, 0.0000],\n",
      "        [0.5455, 0.4545, 0.0000],\n",
      "        [0.2632, 0.4737, 0.2632],\n",
      "        [0.0588, 0.4118, 0.5294],\n",
      "        [0.8286, 0.1714, 0.0000],\n",
      "        [0.3333, 0.6667, 0.0000],\n",
      "        [0.5714, 0.4286, 0.0000],\n",
      "        [0.5500, 0.4500, 0.0000],\n",
      "        [0.3103, 0.6897, 0.0000],\n",
      "        [0.6364, 0.3636, 0.0000],\n",
      "        [0.6250, 0.3750, 0.0000],\n",
      "        [0.8571, 0.1429, 0.0000],\n",
      "        [0.7500, 0.2500, 0.0000],\n",
      "        [0.5556, 0.4444, 0.0000],\n",
      "        [0.5714, 0.4286, 0.0000],\n",
      "        [0.6538, 0.3462, 0.0000],\n",
      "        [0.1515, 0.8485, 0.0000],\n",
      "        [0.4412, 0.5588, 0.0000],\n",
      "        [0.4000, 0.6000, 0.0000],\n",
      "        [0.6429, 0.3571, 0.0000],\n",
      "        [0.4255, 0.5745, 0.0000],\n",
      "        [0.5000, 0.5000, 0.0000],\n",
      "        [0.5000, 0.5000, 0.0000],\n",
      "        [0.4444, 0.5556, 0.0000],\n",
      "        [0.3947, 0.6053, 0.0000],\n",
      "        [0.3469, 0.6531, 0.0000],\n",
      "        [0.4865, 0.5135, 0.0000],\n",
      "        [0.7619, 0.2381, 0.0000],\n",
      "        [0.6364, 0.3636, 0.0000],\n",
      "        [0.6129, 0.3871, 0.0000],\n",
      "        [0.5000, 0.5000, 0.0000],\n",
      "        [0.3478, 0.6522, 0.0000],\n",
      "        [0.3333, 0.6667, 0.0000],\n",
      "        [0.2500, 0.7500, 0.0000],\n",
      "        [0.7647, 0.2353, 0.0000],\n",
      "        [0.5000, 0.5000, 0.0000],\n",
      "        [0.7273, 0.2727, 0.0000],\n",
      "        [0.3333, 0.6667, 0.0000],\n",
      "        [0.6190, 0.3810, 0.0000],\n",
      "        [0.4750, 0.5250, 0.0000],\n",
      "        [0.0000, 1.0000, 0.0000],\n",
      "        [0.5333, 0.4667, 0.0000],\n",
      "        [0.5556, 0.4444, 0.0000],\n",
      "        [0.1724, 0.8276, 0.0000],\n",
      "        [0.3333, 0.6667, 0.0000],\n",
      "        [0.4615, 0.5385, 0.0000],\n",
      "        [0.4688, 0.5312, 0.0000]]) \n",
      "\n",
      "tensor([[0.3721, 0.6279, 0.0000],\n",
      "        [0.4762, 0.5238, 0.0000],\n",
      "        [0.2000, 0.5500, 0.2500],\n",
      "        [0.6341, 0.3659, 0.0000],\n",
      "        [0.5227, 0.4773, 0.0000],\n",
      "        [0.2778, 0.5000, 0.2222],\n",
      "        [0.5238, 0.4762, 0.0000],\n",
      "        [0.5455, 0.4545, 0.0000],\n",
      "        [0.5714, 0.4286, 0.0000],\n",
      "        [0.6087, 0.3913, 0.0000],\n",
      "        [0.5714, 0.4286, 0.0000],\n",
      "        [0.6154, 0.3846, 0.0000],\n",
      "        [0.6250, 0.3750, 0.0000],\n",
      "        [0.2308, 0.3846, 0.3846],\n",
      "        [0.7000, 0.3000, 0.0000],\n",
      "        [0.4762, 0.5238, 0.0000],\n",
      "        [0.3636, 0.6364, 0.0000],\n",
      "        [0.3750, 0.6250, 0.0000],\n",
      "        [0.4872, 0.5128, 0.0000],\n",
      "        [0.6786, 0.3214, 0.0000],\n",
      "        [0.3182, 0.6818, 0.0000],\n",
      "        [0.1818, 0.8182, 0.0000]]) \n",
      "\n"
     ]
    }
   ],
   "source": [
    "for batch in test_loader:\n",
    "    x = scatter_mean(batch.x, batch.batch, dim=0)\n",
    "    print(x,\"\\n\")"
   ]
  },
  {
   "cell_type": "markdown",
   "id": "684e0d48",
   "metadata": {},
   "source": [
    "# Masques de train et de test\n",
    "\n",
    "Ils peuvent être dans la définition de l'objet Data. Regardons avec Planetoid."
   ]
  },
  {
   "cell_type": "markdown",
   "id": "37355c5f",
   "metadata": {},
   "source": [
    "**Question** Lire le jeu de données Cora dans Planetoid et regardez les caractéristiques (cf questions plus haut)"
   ]
  },
  {
   "cell_type": "code",
   "execution_count": 26,
   "id": "505916ef",
   "metadata": {},
   "outputs": [
    {
     "name": "stderr",
     "output_type": "stream",
     "text": [
      "Downloading https://github.com/kimiyoung/planetoid/raw/master/data/ind.cora.x\n",
      "Downloading https://github.com/kimiyoung/planetoid/raw/master/data/ind.cora.tx\n",
      "Downloading https://github.com/kimiyoung/planetoid/raw/master/data/ind.cora.allx\n",
      "Downloading https://github.com/kimiyoung/planetoid/raw/master/data/ind.cora.y\n",
      "Downloading https://github.com/kimiyoung/planetoid/raw/master/data/ind.cora.ty\n",
      "Downloading https://github.com/kimiyoung/planetoid/raw/master/data/ind.cora.ally\n",
      "Downloading https://github.com/kimiyoung/planetoid/raw/master/data/ind.cora.graph\n",
      "Downloading https://github.com/kimiyoung/planetoid/raw/master/data/ind.cora.test.index\n",
      "Processing...\n",
      "Done!\n"
     ]
    }
   ],
   "source": [
    "from torch_geometric.datasets import Planetoid\n",
    "\n",
    "dataset = Planetoid(root='/tmp/Cora', name='Cora')"
   ]
  },
  {
   "cell_type": "code",
   "execution_count": 27,
   "id": "c7c1e64a",
   "metadata": {},
   "outputs": [
    {
     "name": "stdout",
     "output_type": "stream",
     "text": [
      "nombre de graphes :  1 \n",
      "nombre de classes :  7 \n",
      "nombre d'attributs de noeuds 1433\n"
     ]
    }
   ],
   "source": [
    "print(\"nombre de graphes : \", len(dataset),\n",
    "      \"\\nnombre de classes : \", dataset.num_classes,\n",
    "     \"\\nnombre d'attributs de noeuds\", dataset.num_node_features)"
   ]
  },
  {
   "cell_type": "markdown",
   "id": "37ac64e0",
   "metadata": {},
   "source": [
    "Il n'y a qu'un graphe dans ce jeu de données."
   ]
  },
  {
   "cell_type": "markdown",
   "id": "a4574573",
   "metadata": {},
   "source": [
    "**Question** Regardez les caractéristiques des graphes de ce jeu de données et vérifier qu'il y a bien un masque pour train, dev, et test."
   ]
  },
  {
   "cell_type": "code",
   "execution_count": 28,
   "id": "3b279791",
   "metadata": {},
   "outputs": [],
   "source": [
    "data = dataset[0]"
   ]
  },
  {
   "cell_type": "code",
   "execution_count": 29,
   "id": "112d09be",
   "metadata": {},
   "outputs": [
    {
     "name": "stdout",
     "output_type": "stream",
     "text": [
      "nb noeuds :  2708 \n",
      "nb arêtes :  10556 \n",
      "nb attributs noeuds : 1433 \n",
      "nb attributs arêtes : 0 \n",
      "noeuds isolés : False \n",
      "self loops : False \n",
      "dirigé : False\n"
     ]
    }
   ],
   "source": [
    "print(\"nb noeuds : \", data.num_nodes ,\n",
    "      \"\\nnb arêtes : \", data.num_edges, \n",
    "      \"\\nnb attributs noeuds :\", data.num_node_features, \n",
    "      \"\\nnb attributs arêtes :\", data.num_edge_features,\n",
    "      \"\\nnoeuds isolés :\", data.has_isolated_nodes(),\n",
    "      \"\\nself loops :\", data.has_self_loops(), \"\\ndirigé :\",data.is_directed())"
   ]
  },
  {
   "cell_type": "code",
   "execution_count": 30,
   "id": "1c1b60bb",
   "metadata": {},
   "outputs": [
    {
     "data": {
      "text/plain": [
       "Data(x=[2708, 1433], edge_index=[2, 10556], y=[2708], train_mask=[2708], val_mask=[2708], test_mask=[2708])"
      ]
     },
     "execution_count": 30,
     "metadata": {},
     "output_type": "execute_result"
    }
   ],
   "source": [
    "data"
   ]
  },
  {
   "cell_type": "markdown",
   "id": "b6dca3b0",
   "metadata": {},
   "source": [
    "**Question** Combien y a-t-il de noeuds dans les masques de test, train, et val ? Existe-t-il des noeuds qui ne sont dans aucun de ces masques ? "
   ]
  },
  {
   "cell_type": "markdown",
   "id": "e83ba5d3",
   "metadata": {},
   "source": [
    "Il y a 140 noeuds dans l'ensemble d'apprentissage, 500 en validation et 1000 en test. Cela ne donne pas les 2708... "
   ]
  },
  {
   "cell_type": "code",
   "execution_count": 31,
   "id": "634530d7",
   "metadata": {},
   "outputs": [
    {
     "data": {
      "text/plain": [
       "(140, 500, 1000)"
      ]
     },
     "execution_count": 31,
     "metadata": {},
     "output_type": "execute_result"
    }
   ],
   "source": [
    "data.train_mask.sum().item(), data.val_mask.sum().item(), data.test_mask.sum().item()"
   ]
  },
  {
   "cell_type": "code",
   "execution_count": 32,
   "id": "8d55d7d7",
   "metadata": {},
   "outputs": [],
   "source": [
    "all_masks = data.train_mask + data.test_mask + data.val_mask"
   ]
  },
  {
   "cell_type": "code",
   "execution_count": 34,
   "id": "3ef06348",
   "metadata": {},
   "outputs": [
    {
     "data": {
      "text/plain": [
       "1068"
      ]
     },
     "execution_count": 34,
     "metadata": {},
     "output_type": "execute_result"
    }
   ],
   "source": [
    "(all_masks == False).sum().item()"
   ]
  },
  {
   "cell_type": "code",
   "execution_count": 36,
   "id": "7e2a3dd7",
   "metadata": {},
   "outputs": [
    {
     "data": {
      "text/plain": [
       "2708"
      ]
     },
     "execution_count": 36,
     "metadata": {},
     "output_type": "execute_result"
    }
   ],
   "source": [
    "140+500+1000+1068"
   ]
  },
  {
   "cell_type": "markdown",
   "id": "5ff89e67",
   "metadata": {},
   "source": [
    "# Transformations à la lecture\n",
    "\n",
    "On peut appliquer des transformations à la lecture du jeu de données"
   ]
  },
  {
   "cell_type": "code",
   "execution_count": 37,
   "id": "da6d24e0",
   "metadata": {},
   "outputs": [],
   "source": [
    "import torch_geometric.transforms as T"
   ]
  },
  {
   "cell_type": "code",
   "execution_count": 38,
   "id": "a35c3586",
   "metadata": {},
   "outputs": [
    {
     "name": "stderr",
     "output_type": "stream",
     "text": [
      "Downloading https://github.com/kimiyoung/planetoid/raw/master/data/ind.cora.x\n",
      "Downloading https://github.com/kimiyoung/planetoid/raw/master/data/ind.cora.tx\n",
      "Downloading https://github.com/kimiyoung/planetoid/raw/master/data/ind.cora.allx\n",
      "Downloading https://github.com/kimiyoung/planetoid/raw/master/data/ind.cora.y\n",
      "Downloading https://github.com/kimiyoung/planetoid/raw/master/data/ind.cora.ty\n",
      "Downloading https://github.com/kimiyoung/planetoid/raw/master/data/ind.cora.ally\n",
      "Downloading https://github.com/kimiyoung/planetoid/raw/master/data/ind.cora.graph\n",
      "Downloading https://github.com/kimiyoung/planetoid/raw/master/data/ind.cora.test.index\n",
      "Processing...\n",
      "Done!\n"
     ]
    }
   ],
   "source": [
    "from torch_geometric.datasets import Planetoid\n",
    "\n",
    "dataset_norm = Planetoid(root='/tmp/Cora2', name='Cora', transform=T.NormalizeFeatures())"
   ]
  },
  {
   "cell_type": "code",
   "execution_count": 39,
   "id": "69d0f9ce",
   "metadata": {},
   "outputs": [
    {
     "data": {
      "text/plain": [
       "tensor([ 9., 23., 19.,  ..., 18., 14., 13.])"
      ]
     },
     "execution_count": 39,
     "metadata": {},
     "output_type": "execute_result"
    }
   ],
   "source": [
    "dataset[0].x.sum(axis=1)"
   ]
  },
  {
   "cell_type": "code",
   "execution_count": 40,
   "id": "b258142f",
   "metadata": {},
   "outputs": [
    {
     "data": {
      "text/plain": [
       "tensor([1.0000, 1.0000, 1.0000,  ..., 1.0000, 1.0000, 1.0000])"
      ]
     },
     "execution_count": 40,
     "metadata": {},
     "output_type": "execute_result"
    }
   ],
   "source": [
    "dataset_norm[0].x.sum(axis=1)"
   ]
  },
  {
   "cell_type": "code",
   "execution_count": null,
   "id": "ceec36b1",
   "metadata": {},
   "outputs": [],
   "source": []
  },
  {
   "cell_type": "code",
   "execution_count": null,
   "id": "c990e543",
   "metadata": {},
   "outputs": [],
   "source": []
  },
  {
   "cell_type": "code",
   "execution_count": null,
   "id": "3c411e97",
   "metadata": {},
   "outputs": [],
   "source": []
  }
 ],
 "metadata": {
  "kernelspec": {
   "display_name": ".env",
   "language": "python",
   "name": ".env"
  },
  "language_info": {
   "codemirror_mode": {
    "name": "ipython",
    "version": 3
   },
   "file_extension": ".py",
   "mimetype": "text/x-python",
   "name": "python",
   "nbconvert_exporter": "python",
   "pygments_lexer": "ipython3",
   "version": "3.8.8"
  }
 },
 "nbformat": 4,
 "nbformat_minor": 5
}
