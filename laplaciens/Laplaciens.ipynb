{
 "cells": [
  {
   "cell_type": "code",
   "execution_count": 2,
   "id": "53fef4b1",
   "metadata": {},
   "outputs": [],
   "source": [
    "import numpy as np\n",
    "import matplotlib.pyplot as plt\n",
    "rng = np.random.RandomState(0)"
   ]
  },
  {
   "cell_type": "markdown",
   "id": "1a73746f",
   "metadata": {},
   "source": [
    "# Matrice de Gram, de correlation et forme quadratique"
   ]
  },
  {
   "cell_type": "markdown",
   "id": "cae79e44",
   "metadata": {},
   "source": [
    "Dans la suite, on considère que $\\mathbf M$ est une matrice de similarité, elle est donc positive : $\\forall (i,j)\\ M_{ij}\\geq 0$. Ici, on prendra juste une matrice de 10 par 10 tirée uniformément aléatoirement entre 0 et 1. "
   ]
  },
  {
   "cell_type": "code",
   "execution_count": 3,
   "id": "18b274db",
   "metadata": {},
   "outputs": [
    {
     "data": {
      "text/plain": [
       "array([[0.09762701, 0.43037873, 0.20552675, 0.08976637, 0.1526904 ,\n",
       "        0.29178823, 0.12482558, 0.783546  , 0.92732552, 0.23311696],\n",
       "       [0.58345008, 0.05778984, 0.13608912, 0.85119328, 0.85792788,\n",
       "        0.8257414 , 0.95956321, 0.66523969, 0.5563135 , 0.7400243 ],\n",
       "       [0.95723668, 0.59831713, 0.07704128, 0.56105835, 0.76345115,\n",
       "        0.27984204, 0.71329343, 0.88933783, 0.04369664, 0.17067612],\n",
       "       [0.47088878, 0.54846738, 0.08769934, 0.1368679 , 0.9624204 ,\n",
       "        0.23527099, 0.22419145, 0.23386799, 0.88749616, 0.3636406 ],\n",
       "       [0.2809842 , 0.12593609, 0.39526239, 0.87954906, 0.33353343,\n",
       "        0.34127574, 0.57923488, 0.7421474 , 0.3691433 , 0.27257846],\n",
       "       [0.14039354, 0.12279697, 0.97674768, 0.79591038, 0.58224649,\n",
       "        0.67738096, 0.30621665, 0.49341679, 0.06737845, 0.51114882],\n",
       "       [0.68206083, 0.77924972, 0.31265918, 0.7236341 , 0.60683528,\n",
       "        0.26254966, 0.64198646, 0.80579745, 0.67588981, 0.80780318],\n",
       "       [0.95291893, 0.0626976 , 0.95352218, 0.20969104, 0.47852716,\n",
       "        0.92162442, 0.43438607, 0.75960688, 0.4077196 , 0.76254456],\n",
       "       [0.36403364, 0.17147401, 0.87170501, 0.38494424, 0.13320291,\n",
       "        0.46922102, 0.04649611, 0.81211898, 0.15189299, 0.8585924 ],\n",
       "       [0.3628621 , 0.33482076, 0.73640428, 0.43265441, 0.42118781,\n",
       "        0.63361728, 0.17302587, 0.95978491, 0.65788006, 0.99060905]])"
      ]
     },
     "execution_count": 3,
     "metadata": {},
     "output_type": "execute_result"
    }
   ],
   "source": [
    "M = rng.random(size=(10,10))*2 - 1\n",
    "M = np.abs(M)\n",
    "M"
   ]
  },
  {
   "cell_type": "markdown",
   "id": "6722c699",
   "metadata": {},
   "source": [
    "**Question** On considère que $\\mathbf M$ est un ensemble de 10 vecteurs de dimension 10. Calculer la matrice de Gram de $M$, c'est-à-dire, l'ensemble des produits scalaires de tous les vecteurs de $\\mathbf M$, les uns avec les autres. Notez $\\mathbf W$ cette matrice de Gram de $\\mathbf M$\n",
    "\n",
    "Si $\\mathbf M = [v_0,v_1, v_2, \\dots, v_9]$ alors $\\mathbf W_{i,j}=\\langle v_i, v_j\\rangle$."
   ]
  },
  {
   "cell_type": "code",
   "execution_count": null,
   "id": "d5056391",
   "metadata": {},
   "outputs": [],
   "source": [
    "W = M@M.T"
   ]
  },
  {
   "cell_type": "markdown",
   "id": "d982e1ee",
   "metadata": {},
   "source": [
    "**Question** Donnez l'expression de la matrice de Gram de $\\mathbf A$, la matrice $\\mathbf A = \\begin{pmatrix} a&b\\\\c&d\\end{pmatrix}$"
   ]
  },
  {
   "cell_type": "markdown",
   "id": "efe25870",
   "metadata": {},
   "source": [
    "*Réponse*  $\\begin{pmatrix} a^2+b^2 & ac+bd\\\\ac+bd & c^2+d^2 \\end{pmatrix}$"
   ]
  },
  {
   "cell_type": "markdown",
   "id": "69440e13",
   "metadata": {},
   "source": [
    "**Question** Quelles sont les propriétés de cette matrice? "
   ]
  },
  {
   "cell_type": "markdown",
   "id": "48a221d2",
   "metadata": {},
   "source": [
    "*Réponse* : Elle est symétrique et positive"
   ]
  },
  {
   "cell_type": "markdown",
   "id": "572a9e13",
   "metadata": {},
   "source": [
    "**Question** Calculer le vecteur $\\mathbf d$ de la somme des toutes les lignes de $\\mathbf W$. Appeler $\\mathbf D$ la matrice diagonale de $\\mathbf d$ : Elle a pour diagonale le vecteur $\\mathbf d$ et des 0 partout ailleurs. "
   ]
  },
  {
   "cell_type": "code",
   "execution_count": 5,
   "id": "04de229b",
   "metadata": {},
   "outputs": [],
   "source": [
    "d = W.sum(axis=1)\n",
    "D = np.diag(d)"
   ]
  },
  {
   "cell_type": "markdown",
   "id": "14f4f5d3",
   "metadata": {},
   "source": [
    "**Question** Donnez l'expression de cette matrice diagonale construite à partir de la matrice de Gram de $\\mathbf A$."
   ]
  },
  {
   "cell_type": "markdown",
   "id": "d31fb6a5",
   "metadata": {},
   "source": [
    "*Réponse*\n",
    "\n",
    "\\begin{pmatrix} a^2+b^2 + ac+bd &0 \\\\0 & ac+bd + c^2+d^2 \\end{pmatrix}"
   ]
  },
  {
   "cell_type": "markdown",
   "id": "8a008164",
   "metadata": {},
   "source": [
    "**Question** Calculer maintenant la matrice $\\mathbf L$ qui vaut $\\mathbf D-\\mathbf W$ et donnez l'expression dans le cas des matrices construites à partir de $\\mathbf A$."
   ]
  },
  {
   "cell_type": "markdown",
   "id": "72842fa9",
   "metadata": {},
   "source": [
    "*Réponse*\n",
    "\n",
    "\\begin{pmatrix}  ac+bd & -  (ac+bd) \\\\ - (ac+bd) & ac+bd \\end{pmatrix}"
   ]
  },
  {
   "cell_type": "code",
   "execution_count": 6,
   "id": "235389c5",
   "metadata": {},
   "outputs": [],
   "source": [
    "L = D - W"
   ]
  },
  {
   "cell_type": "markdown",
   "id": "c350211a",
   "metadata": {},
   "source": [
    "**Question** Si on prend un vecteur $\\mathbf v$ quelconque, on va pouvoir observer que le signe de $\\mathbf v^\\top \\mathbf L\\mathbf v$ est toujours positif. \n",
    "\n",
    "Dans le cas de la matrice 2x2, vérifiez que cela est bien  vrai. *Aide* : appelez $x=ac+bd$ pour simplifier vos calculs. "
   ]
  },
  {
   "cell_type": "code",
   "execution_count": 7,
   "id": "202acf3b",
   "metadata": {},
   "outputs": [
    {
     "name": "stdout",
     "output_type": "stream",
     "text": [
      "[ 1.77816537 -2.29992027  2.35194022  4.62188545 -2.51246856  0.76157334\n",
      "  0.92041931  0.72251906 -2.76918367  4.52749012]\n",
      "1593.9630094021732\n"
     ]
    }
   ],
   "source": [
    "v = rng.random(L.shape[0])*10-5\n",
    "print(v)\n",
    "print(v@L@v)"
   ]
  },
  {
   "cell_type": "markdown",
   "id": "cd0e503e",
   "metadata": {},
   "source": [
    "*Réponse* : \n",
    "\n",
    "$(v_1, v_2) \\begin{pmatrix}  x & -  x \\\\ - x & x \\end{pmatrix}\\begin{pmatrix}  v_1 \\\\ v_2 \\end{pmatrix} = (x(v_1-v2) , x(v_2-v_1))\\begin{pmatrix}v_1\\\\v_2\\end{pmatrix} = x(v_1^2+v_2^2-2v_1v_2) =x(v_1-v_2)^2 \\geq 0$."
   ]
  },
  {
   "cell_type": "markdown",
   "id": "9c4968ba",
   "metadata": {},
   "source": [
    "**Information** Cette propriété de positivité de $v^\\top Lv$ est une propriété qui définit la notion de **matrice semi-définie positive** (le semi venant du fait que le résultat peut être nul. Une telle matrice a des valeurs propres qui sont toutes positives.  "
   ]
  },
  {
   "cell_type": "markdown",
   "id": "4f39152f",
   "metadata": {},
   "source": [
    "**Question** Vérifier que les valeurs propres de $L$ sont positives."
   ]
  },
  {
   "cell_type": "code",
   "execution_count": 8,
   "id": "8ae92dcd",
   "metadata": {},
   "outputs": [
    {
     "name": "stdout",
     "output_type": "stream",
     "text": [
      "[ 0.         17.10867083 19.35934904 31.53652897 30.53107662 30.23172562\n",
      " 27.15033786 22.10147522 23.91479882 23.38259964]\n"
     ]
    }
   ],
   "source": [
    "e, V = np.linalg.eig(L)\n",
    "print(e)"
   ]
  },
  {
   "cell_type": "markdown",
   "id": "69a8fedd",
   "metadata": {},
   "source": [
    "# Matrices d'incidences de graphes"
   ]
  },
  {
   "cell_type": "markdown",
   "id": "e2615d31",
   "metadata": {},
   "source": [
    "On peut représenter un graphe aussi par une matrice d'incidence. Chaque colonne correspond à une arête du graphe et chaque ligne correspond à un noeud. \n",
    "\n",
    "La version non pondérée de cette matrice d'incidence pour un graphe non dirigé a un 1 à chacune des extrémités. Plus formellement la matrice d'incidence $\\mathbf{BI}$ est définie par $\\mathbf{BI}_{ik}=1$ et $\\mathbf{BI}_{jk}=1$ si l'arête $k$ relie les noeuds $i$ et $j$ et 0 sinon. "
   ]
  },
  {
   "cell_type": "markdown",
   "id": "455d1056",
   "metadata": {},
   "source": [
    "**Question**  Calculer cette matrice d'incidence pour le graphe non dirigé de deux noeuds qui relie ces deux noeuds. Afficher le résultat du produit de cette matrice par sa transposée."
   ]
  },
  {
   "cell_type": "code",
   "execution_count": 9,
   "id": "7638a2a6",
   "metadata": {},
   "outputs": [],
   "source": [
    "BI = np.array([[1], [1]])"
   ]
  },
  {
   "cell_type": "code",
   "execution_count": 10,
   "id": "a962f883",
   "metadata": {},
   "outputs": [
    {
     "data": {
      "text/plain": [
       "array([[1, 1],\n",
       "       [1, 1]])"
      ]
     },
     "execution_count": 10,
     "metadata": {},
     "output_type": "execute_result"
    }
   ],
   "source": [
    "BI@BI.T"
   ]
  },
  {
   "cell_type": "markdown",
   "id": "904811c7",
   "metadata": {},
   "source": [
    "**Question** Même question avec une matrice d'un graphe vue dans le TP précédent."
   ]
  },
  {
   "cell_type": "code",
   "execution_count": 11,
   "id": "2f24e1df",
   "metadata": {},
   "outputs": [],
   "source": [
    "B = np.array([[0, 1, 0, 0],\n",
    "              [1, 0, 1, 1],\n",
    "              [0, 1, 0, 1],\n",
    "              [0, 1, 1, 0]\n",
    "             ])"
   ]
  },
  {
   "cell_type": "code",
   "execution_count": 16,
   "id": "334f596f",
   "metadata": {},
   "outputs": [],
   "source": [
    "C = np.array([[1,0,0,0], [1,1,1,0], [0,1,0,1], [0,0,1,1]])"
   ]
  },
  {
   "cell_type": "code",
   "execution_count": 17,
   "id": "93d487b2",
   "metadata": {},
   "outputs": [
    {
     "data": {
      "text/plain": [
       "array([[1, 1, 0, 0],\n",
       "       [1, 3, 1, 1],\n",
       "       [0, 1, 2, 1],\n",
       "       [0, 1, 1, 2]])"
      ]
     },
     "execution_count": 17,
     "metadata": {},
     "output_type": "execute_result"
    }
   ],
   "source": [
    "C@C.T"
   ]
  },
  {
   "cell_type": "markdown",
   "id": "52081cda",
   "metadata": {},
   "source": [
    "**Question** : Que sera la valeur sur la diagonale du produit  $\\mathbf {C} \\mathbf{C}^\\top$ ? Que sera la valeur des autres cases de ce produit ?"
   ]
  },
  {
   "cell_type": "markdown",
   "id": "b8d9136c",
   "metadata": {},
   "source": [
    "*Réponse* : le degré sur la diagonale, et un 1 en $(i,j)$ si une arête relie les noeuds $i$ et $j$. En effet si $\\mathbf{C}$ est cette matrice alors\n",
    "\n",
    "-  pour tout $i\\neq j$,  $\\langle\\mathbf{C}_{i:},\\mathbf{C}_{j:}\\rangle = \\sum_{k} \\mathbf{C}_{ik}\\mathbf{C}_{jk}= 1$ si il y a une arête entre $i$ et $j$ par définition et 0 sinon.\n",
    "- pour tout $i$,  $\\langle\\mathbf{C}_{i:},\\mathbf{C}_{i:}\\rangle = \\sum_{k} \\mathbf{C}_{ik}^2$ qui est le degré du noeud.\n"
   ]
  },
  {
   "cell_type": "code",
   "execution_count": 14,
   "id": "b9bb48a9",
   "metadata": {},
   "outputs": [
    {
     "data": {
      "image/png": "[encoded data removed]",
      "text/plain": [
       "<Figure size 432x288 with 1 Axes>"
      ]
     },
     "metadata": {},
     "output_type": "display_data"
    }
   ],
   "source": [
    "import networkx as nx\n",
    "G = nx.Graph(B)\n",
    "nx.draw(G, with_labels=True)"
   ]
  },
  {
   "cell_type": "markdown",
   "id": "f5bafac2",
   "metadata": {},
   "source": [
    "**Question** Calculer la matrice laplacienne $\\mathbf L = \\mathbf D - \\mathbf B$ où $\\mathbf D$ est la matrice diagonale des degrés de $\\mathbf B$. Comparer avec $\\mathbf {C}\\mathbf C^\\top$. "
   ]
  },
  {
   "cell_type": "code",
   "execution_count": 15,
   "id": "7c9620e4",
   "metadata": {},
   "outputs": [
    {
     "data": {
      "text/plain": [
       "array([[ 1, -1,  0,  0],\n",
       "       [-1,  3, -1, -1],\n",
       "       [ 0, -1,  2, -1],\n",
       "       [ 0, -1, -1,  2]])"
      ]
     },
     "execution_count": 15,
     "metadata": {},
     "output_type": "execute_result"
    }
   ],
   "source": [
    "L = np.diag(B.sum(axis=1)) - B\n",
    "L"
   ]
  },
  {
   "cell_type": "markdown",
   "id": "d5ff62b2",
   "metadata": {},
   "source": [
    "**Question** Soit $\\mathbf f$ un vecteur qui associe une valeur à chaque noeud du graphe. Elle est égale à 1 pour le noeud 0 et à 0 pour le neud 3. Vérifier que la forme quadratique $\\mathbf f^\\top L\\mathbf f$ est bien minimale si on choisit des valeurs pour 1 et 2 qui minimisent les écarts entre les valeurs des noeuds. "
   ]
  },
  {
   "cell_type": "code",
   "execution_count": 25,
   "id": "442b3161",
   "metadata": {},
   "outputs": [
    {
     "data": {
      "text/plain": [
       "array([[0.6042]])"
      ]
     },
     "execution_count": 25,
     "metadata": {},
     "output_type": "execute_result"
    }
   ],
   "source": [
    "f = np.array([[0, 0.58, 0.75, 1]]).T\n",
    "f.T@L@f"
   ]
  },
  {
   "cell_type": "code",
   "execution_count": 18,
   "id": "a409a0c8",
   "metadata": {},
   "outputs": [
    {
     "data": {
      "text/plain": [
       "0.9375"
      ]
     },
     "execution_count": 18,
     "metadata": {},
     "output_type": "execute_result"
    }
   ],
   "source": [
    "f = np.array([0, 0.75, 0.5, 1])\n",
    "f@L@f"
   ]
  },
  {
   "cell_type": "code",
   "execution_count": 19,
   "id": "a1b841c7",
   "metadata": {},
   "outputs": [
    {
     "data": {
      "text/plain": [
       "0.8699999999999999"
      ]
     },
     "execution_count": 19,
     "metadata": {},
     "output_type": "execute_result"
    }
   ],
   "source": [
    "f = np.array([0, 0.3, 0.8, 1])\n",
    "f@L@f"
   ]
  },
  {
   "cell_type": "code",
   "execution_count": 24,
   "id": "84ee9b03",
   "metadata": {},
   "outputs": [
    {
     "data": {
      "text/plain": [
       "1.6800000000000002"
      ]
     },
     "execution_count": 24,
     "metadata": {},
     "output_type": "execute_result"
    }
   ],
   "source": [
    "f = np.array([0, 0.8, 0.2, 1])\n",
    "f@L@f"
   ]
  },
  {
   "cell_type": "code",
   "execution_count": null,
   "id": "4381339c",
   "metadata": {},
   "outputs": [],
   "source": []
  }
 ],
 "metadata": {
  "kernelspec": {
   "display_name": "Python 3 (ipykernel)",
   "language": "python",
   "name": "python3"
  },
  "language_info": {
   "codemirror_mode": {
    "name": "ipython",
    "version": 3
   },
   "file_extension": ".py",
   "mimetype": "text/x-python",
   "name": "python",
   "nbconvert_exporter": "python",
   "pygments_lexer": "ipython3",
   "version": "3.9.12"
  }
 },
 "nbformat": 4,
 "nbformat_minor": 5
}
